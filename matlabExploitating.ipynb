{
 "cells": [
  {
   "cell_type": "markdown",
   "metadata": {},
   "source": [
    "# Import Required Libraries\n",
    "Import the necessary libraries, including scipy.io for reading MATLAB files."
   ]
  },
  {
   "cell_type": "code",
   "execution_count": 2,
   "metadata": {},
   "outputs": [],
   "source": [
    "# Importing the required library\n",
    "import scipy.io as sio"
   ]
  },
  {
   "cell_type": "markdown",
   "metadata": {},
   "source": [
    "# Define the Function to Load MATLAB Files\n",
    "Define a function that uses scipy.io.loadmat() to load a MATLAB file and return the data."
   ]
  },
  {
   "cell_type": "code",
   "execution_count": 3,
   "metadata": {},
   "outputs": [],
   "source": [
    "# Define the Function to Load MATLAB Files\n",
    "def load_matlab_file(file_path):\n",
    "    \"\"\"\n",
    "    This function loads a MATLAB file and returns the data.\n",
    "    \n",
    "    Parameters:\n",
    "    file_path (str): The path to the MATLAB file.\n",
    "    \n",
    "    Returns:\n",
    "    dict: The data from the MATLAB file.\n",
    "    \"\"\"\n",
    "    # Use scipy's loadmat function to load the MATLAB file\n",
    "    data = sio.loadmat(file_path)\n",
    "    \n",
    "    return data"
   ]
  },
  {
   "cell_type": "markdown",
   "metadata": {},
   "source": [
    "# Read the MATLAB Files\n",
    "Use the defined function to load data from a series of MATLAB files."
   ]
  },
  {
   "cell_type": "code",
   "execution_count": null,
   "metadata": {},
   "outputs": [],
   "source": [
    "# List of MATLAB files\n",
    "matlab_files = ['A01.mat', 'A02.mat', 'A03.mat', 'A04.mat', 'A05.mat', 'A06.mat', 'A07.mat', 'A08.mat']\n",
    "\n",
    "# Initialize an empty dictionary to store the data from all files\n",
    "all_data = {}\n",
    "\n",
    "# Loop through each file\n",
    "for file in matlab_files:\n",
    "    # Load the data from the file using the function defined above\n",
    "    data = load_matlab_file(file)\n",
    "    \n",
    "    # Add the data to the all_data dictionary\n",
    "    # The key is the file name and the value is the data\n",
    "    all_data[file] = data"
   ]
  },
  {
   "cell_type": "markdown",
   "metadata": {},
   "source": [
    "# Display the Data\n",
    "Display the loaded data for verification."
   ]
  },
  {
   "cell_type": "code",
   "execution_count": null,
   "metadata": {},
   "outputs": [],
   "source": [
    "# Display the Data\n",
    "for file, data in all_data.items():\n",
    "    print(f\"Data from {file}:\")\n",
    "    print(data)\n",
    "    print(\"\\n\")"
   ]
  }
 ],
 "metadata": {
  "kernelspec": {
   "display_name": "min2net",
   "language": "python",
   "name": "python3"
  },
  "language_info": {
   "codemirror_mode": {
    "name": "ipython",
    "version": 3
   },
   "file_extension": ".py",
   "mimetype": "text/x-python",
   "name": "python",
   "nbconvert_exporter": "python",
   "pygments_lexer": "ipython3",
   "version": "3.11.9"
  }
 },
 "nbformat": 4,
 "nbformat_minor": 2
}
